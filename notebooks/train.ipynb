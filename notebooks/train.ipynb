{
 "cells": [
  {
   "cell_type": "code",
   "execution_count": null,
   "metadata": {
    "execution": {
     "iopub.execute_input": "2022-10-24T23:43:07.793881Z",
     "iopub.status.busy": "2022-10-24T23:43:07.793322Z",
     "iopub.status.idle": "2022-10-24T23:43:07.820319Z",
     "shell.execute_reply": "2022-10-24T23:43:07.819436Z",
     "shell.execute_reply.started": "2022-10-24T23:43:07.793766Z"
    }
   },
   "outputs": [],
   "source": [
    "from IPython.display import FileLink\n",
    "import os\n",
    "import numpy as np\n",
    "import pandas as pd\n",
    "import PIL\n",
    "from pathlib import Path\n",
    "import shutil"
   ]
  },
  {
   "cell_type": "code",
   "execution_count": null,
   "metadata": {
    "execution": {
     "iopub.execute_input": "2022-10-24T23:43:12.087161Z",
     "iopub.status.busy": "2022-10-24T23:43:12.086189Z",
     "iopub.status.idle": "2022-10-24T23:43:22.540737Z",
     "shell.execute_reply": "2022-10-24T23:43:22.539468Z",
     "shell.execute_reply.started": "2022-10-24T23:43:12.087117Z"
    },
    "jupyter": {
     "outputs_hidden": true
    }
   },
   "outputs": [],
   "source": [
    "!git clone https://github.com/WongKinYiu/yolov7.git\n",
    "!ls yolov7"
   ]
  },
  {
   "cell_type": "code",
   "execution_count": null,
   "metadata": {
    "execution": {
     "iopub.execute_input": "2022-10-24T23:43:22.543542Z",
     "iopub.status.busy": "2022-10-24T23:43:22.543059Z",
     "iopub.status.idle": "2022-10-24T23:43:35.397826Z",
     "shell.execute_reply": "2022-10-24T23:43:35.396664Z",
     "shell.execute_reply.started": "2022-10-24T23:43:22.543486Z"
    },
    "jupyter": {
     "outputs_hidden": true
    }
   },
   "outputs": [],
   "source": [
    "!pip install -r yolov7/requirements.txt"
   ]
  },
  {
   "cell_type": "markdown",
   "metadata": {},
   "source": [
    "# Data"
   ]
  },
  {
   "cell_type": "markdown",
   "metadata": {},
   "source": [
    "The input dataset needs to be organized according to the following structure:\n",
    "\n",
    "```\n",
    "images/\n",
    "  train/\n",
    "  valid/\n",
    "labels/\n",
    "  train/\n",
    "  valid/\n",
    "```\n",
    "\n",
    "As an example, we'll use the Kaggle \"Cyclist Dataset for Object Detection\" (https://www.kaggle.com/datasets/semiemptyglass/cyclist-dataset) uploaded by Kaggle user \"SEMIEMPTYGLASS\".\n",
    "Original authors: X. Li, F. Flohr, Y. Yang, H. Xiong, M. Braun, S. Pan, K. Li and D. M. Gavrila."
   ]
  },
  {
   "cell_type": "code",
   "execution_count": null,
   "metadata": {
    "execution": {
     "iopub.execute_input": "2022-10-24T23:43:47.226889Z",
     "iopub.status.busy": "2022-10-24T23:43:47.226451Z",
     "iopub.status.idle": "2022-10-24T23:43:48.227138Z",
     "shell.execute_reply": "2022-10-24T23:43:48.225739Z",
     "shell.execute_reply.started": "2022-10-24T23:43:47.226855Z"
    }
   },
   "outputs": [],
   "source": [
    "orig_ds_root = Path('/kaggle/input/cyclist-dataset/data_tsinghua')\n",
    "ds_root = Path('/kaggle/working/cyclist-dataset')\n",
    "!mkdir $ds_root"
   ]
  },
  {
   "cell_type": "code",
   "execution_count": null,
   "metadata": {
    "execution": {
     "iopub.execute_input": "2022-10-24T23:43:54.972368Z",
     "iopub.status.busy": "2022-10-24T23:43:54.971226Z",
     "iopub.status.idle": "2022-10-24T23:43:55.714621Z",
     "shell.execute_reply": "2022-10-24T23:43:55.713478Z",
     "shell.execute_reply.started": "2022-10-24T23:43:54.972328Z"
    }
   },
   "outputs": [],
   "source": [
    "all_img_paths = sorted((orig_ds_root/'images').glob('*'))\n",
    "all_label_paths = sorted((orig_ds_root/'labels').glob('*'))\n",
    "assert len(all_img_paths) == len(all_label_paths)"
   ]
  },
  {
   "cell_type": "code",
   "execution_count": null,
   "metadata": {
    "execution": {
     "iopub.execute_input": "2022-10-24T23:44:11.599669Z",
     "iopub.status.busy": "2022-10-24T23:44:11.599304Z",
     "iopub.status.idle": "2022-10-24T23:45:48.706596Z",
     "shell.execute_reply": "2022-10-24T23:45:48.705391Z",
     "shell.execute_reply.started": "2022-10-24T23:44:11.599638Z"
    }
   },
   "outputs": [],
   "source": [
    "valid_pct = 0.2\n",
    "split_idx = int(len(all_img_paths) * (1 - valid_pct))\n",
    "train_img_paths = all_img_paths[:split_idx]\n",
    "val_img_paths = all_img_paths[split_idx:]\n",
    "train_label_paths = all_label_paths[:split_idx]\n",
    "val_label_paths = all_label_paths[split_idx:]\n",
    "!mkdir {ds_root/'images'}\n",
    "!mkdir {ds_root/'labels'}\n",
    "\n",
    "for split, label_paths, img_paths in zip(\n",
    "    ('train', 'valid'), (train_label_paths, val_label_paths), (train_img_paths, val_img_paths), \n",
    "):\n",
    "    !mkdir {ds_root/'images'/split}\n",
    "    !mkdir {ds_root/'labels'/split}\n",
    "    \n",
    "    i = 0\n",
    "    for p in img_paths:\n",
    "        # Faster than !cp $p {ds_root/images'/split}\n",
    "        shutil.copy(p, ds_root/'images'/split)\n",
    "        i += 1\n",
    "        if i%1000 == 0:\n",
    "            print('Done ', i)\n",
    "    for p in label_paths:\n",
    "        shutil.copy(p, ds_root/'labels'/split)"
   ]
  },
  {
   "cell_type": "code",
   "execution_count": null,
   "metadata": {
    "execution": {
     "iopub.execute_input": "2022-10-24T23:45:48.709378Z",
     "iopub.status.busy": "2022-10-24T23:45:48.708970Z",
     "iopub.status.idle": "2022-10-24T23:45:48.971793Z",
     "shell.execute_reply": "2022-10-24T23:45:48.970618Z",
     "shell.execute_reply.started": "2022-10-24T23:45:48.709340Z"
    }
   },
   "outputs": [],
   "source": [
    "def test_ds_reorganization(orig_ds_root, ds_root, valid_pct):\n",
    "    for artifact in ('images', 'labels'):\n",
    "        actual_count = len(list((orig_ds_root/artifact).glob('*')))\n",
    "        expected_train_count = int(actual_count * (1 - valid_pct))\n",
    "        expected_valid_count = actual_count - expected_train_count\n",
    "\n",
    "        train_items = os.listdir(ds_root/artifact/'train')\n",
    "        valid_items = os.listdir(ds_root/artifact/'valid')\n",
    "        train_valid_are_disjoint = 0 == len(set(train_items).intersection(set(valid_items)))\n",
    "        \n",
    "        assert len(train_items) == expected_train_count\n",
    "        assert len(valid_items) == expected_valid_count\n",
    "        assert train_valid_are_disjoint\n",
    "\n",
    "\n",
    "test_ds_reorganization(orig_ds_root, ds_root, valid_pct)"
   ]
  },
  {
   "cell_type": "markdown",
   "metadata": {},
   "source": [
    "# YOLO config"
   ]
  },
  {
   "cell_type": "markdown",
   "metadata": {},
   "source": [
    "Create a metadata file about the input dataset with the format expected by YOLO"
   ]
  },
  {
   "cell_type": "code",
   "execution_count": null,
   "metadata": {},
   "outputs": [],
   "source": [
    "##!! Writefile is not dynamic (doesn't evaluate its content)\n",
    "# %%writefile yolov7/data/cyclist-dataset.yaml\n",
    "# train: {ds_root/'images/train'}\n",
    "# val: {ds_root/'images/valid'}\n",
    "# #test:\n",
    "\n",
    "# nc: 1  # number of classes\n",
    "# names: ['cyclist']  # class names"
   ]
  },
  {
   "cell_type": "code",
   "execution_count": null,
   "metadata": {
    "execution": {
     "iopub.execute_input": "2022-10-25T00:35:22.144892Z",
     "iopub.status.busy": "2022-10-25T00:35:22.144505Z",
     "iopub.status.idle": "2022-10-25T00:35:22.151399Z",
     "shell.execute_reply": "2022-10-25T00:35:22.150229Z",
     "shell.execute_reply.started": "2022-10-25T00:35:22.144861Z"
    }
   },
   "outputs": [],
   "source": [
    "data_yaml_content = f\"\"\"train: {ds_root/'images/train'}\n",
    "val: {ds_root/'images/valid'}\n",
    "#test:\n",
    "\n",
    "nc: 1  # number of classes\n",
    "names: ['cyclist']  # class names\n",
    "\"\"\"    \n",
    "with open('/kaggle/working/yolov7/data/cyclist-dataset.yaml', 'w') as f:\n",
    "    print(data_yaml_content, file=f)"
   ]
  },
  {
   "cell_type": "code",
   "execution_count": null,
   "metadata": {
    "execution": {
     "iopub.execute_input": "2022-10-25T00:35:23.264360Z",
     "iopub.status.busy": "2022-10-25T00:35:23.263963Z",
     "iopub.status.idle": "2022-10-25T00:35:24.206781Z",
     "shell.execute_reply": "2022-10-25T00:35:24.205588Z",
     "shell.execute_reply.started": "2022-10-25T00:35:23.264328Z"
    }
   },
   "outputs": [],
   "source": [
    "!cat data/cyclist-dataset.yaml"
   ]
  },
  {
   "cell_type": "markdown",
   "metadata": {},
   "source": [
    "Create a copy of yolov7/cfg/training/yolov7-tiny.yaml and change nc (number of classes) to 1:"
   ]
  },
  {
   "cell_type": "code",
   "execution_count": null,
   "metadata": {
    "execution": {
     "iopub.execute_input": "2022-10-24T23:48:57.024655Z",
     "iopub.status.busy": "2022-10-24T23:48:57.024288Z",
     "iopub.status.idle": "2022-10-24T23:48:57.033434Z",
     "shell.execute_reply": "2022-10-24T23:48:57.032298Z",
     "shell.execute_reply.started": "2022-10-24T23:48:57.024625Z"
    }
   },
   "outputs": [],
   "source": [
    "%%writefile yolov7/cfg/training/yolov7-tiny-single-class.yaml\n",
    "# parameters\n",
    "nc: 1  # number of classes\n",
    "depth_multiple: 1.0  # model depth multiple\n",
    "width_multiple: 1.0  # layer channel multiple\n",
    "\n",
    "# anchors\n",
    "anchors:\n",
    "  - [10,13, 16,30, 33,23]  # P3/8\n",
    "  - [30,61, 62,45, 59,119]  # P4/16\n",
    "  - [116,90, 156,198, 373,326]  # P5/32\n",
    "\n",
    "# yolov7-tiny backbone\n",
    "backbone:\n",
    "  # [from, number, module, args] c2, k=1, s=1, p=None, g=1, act=True\n",
    "  [[-1, 1, Conv, [32, 3, 2, None, 1, nn.LeakyReLU(0.1)]],  # 0-P1/2  \n",
    "  \n",
    "   [-1, 1, Conv, [64, 3, 2, None, 1, nn.LeakyReLU(0.1)]],  # 1-P2/4    \n",
    "   \n",
    "   [-1, 1, Conv, [32, 1, 1, None, 1, nn.LeakyReLU(0.1)]],\n",
    "   [-2, 1, Conv, [32, 1, 1, None, 1, nn.LeakyReLU(0.1)]],\n",
    "   [-1, 1, Conv, [32, 3, 1, None, 1, nn.LeakyReLU(0.1)]],\n",
    "   [-1, 1, Conv, [32, 3, 1, None, 1, nn.LeakyReLU(0.1)]],\n",
    "   [[-1, -2, -3, -4], 1, Concat, [1]],\n",
    "   [-1, 1, Conv, [64, 1, 1, None, 1, nn.LeakyReLU(0.1)]],  # 7\n",
    "   \n",
    "   [-1, 1, MP, []],  # 8-P3/8\n",
    "   [-1, 1, Conv, [64, 1, 1, None, 1, nn.LeakyReLU(0.1)]],\n",
    "   [-2, 1, Conv, [64, 1, 1, None, 1, nn.LeakyReLU(0.1)]],\n",
    "   [-1, 1, Conv, [64, 3, 1, None, 1, nn.LeakyReLU(0.1)]],\n",
    "   [-1, 1, Conv, [64, 3, 1, None, 1, nn.LeakyReLU(0.1)]],\n",
    "   [[-1, -2, -3, -4], 1, Concat, [1]],\n",
    "   [-1, 1, Conv, [128, 1, 1, None, 1, nn.LeakyReLU(0.1)]],  # 14\n",
    "   \n",
    "   [-1, 1, MP, []],  # 15-P4/16\n",
    "   [-1, 1, Conv, [128, 1, 1, None, 1, nn.LeakyReLU(0.1)]],\n",
    "   [-2, 1, Conv, [128, 1, 1, None, 1, nn.LeakyReLU(0.1)]],\n",
    "   [-1, 1, Conv, [128, 3, 1, None, 1, nn.LeakyReLU(0.1)]],\n",
    "   [-1, 1, Conv, [128, 3, 1, None, 1, nn.LeakyReLU(0.1)]],\n",
    "   [[-1, -2, -3, -4], 1, Concat, [1]],\n",
    "   [-1, 1, Conv, [256, 1, 1, None, 1, nn.LeakyReLU(0.1)]],  # 21\n",
    "   \n",
    "   [-1, 1, MP, []],  # 22-P5/32\n",
    "   [-1, 1, Conv, [256, 1, 1, None, 1, nn.LeakyReLU(0.1)]],\n",
    "   [-2, 1, Conv, [256, 1, 1, None, 1, nn.LeakyReLU(0.1)]],\n",
    "   [-1, 1, Conv, [256, 3, 1, None, 1, nn.LeakyReLU(0.1)]],\n",
    "   [-1, 1, Conv, [256, 3, 1, None, 1, nn.LeakyReLU(0.1)]],\n",
    "   [[-1, -2, -3, -4], 1, Concat, [1]],\n",
    "   [-1, 1, Conv, [512, 1, 1, None, 1, nn.LeakyReLU(0.1)]],  # 28\n",
    "  ]\n",
    "\n",
    "# yolov7-tiny head\n",
    "head:\n",
    "  [[-1, 1, Conv, [256, 1, 1, None, 1, nn.LeakyReLU(0.1)]],\n",
    "   [-2, 1, Conv, [256, 1, 1, None, 1, nn.LeakyReLU(0.1)]],\n",
    "   [-1, 1, SP, [5]],\n",
    "   [-2, 1, SP, [9]],\n",
    "   [-3, 1, SP, [13]],\n",
    "   [[-1, -2, -3, -4], 1, Concat, [1]],\n",
    "   [-1, 1, Conv, [256, 1, 1, None, 1, nn.LeakyReLU(0.1)]],\n",
    "   [[-1, -7], 1, Concat, [1]],\n",
    "   [-1, 1, Conv, [256, 1, 1, None, 1, nn.LeakyReLU(0.1)]],  # 37\n",
    "  \n",
    "   [-1, 1, Conv, [128, 1, 1, None, 1, nn.LeakyReLU(0.1)]],\n",
    "   [-1, 1, nn.Upsample, [None, 2, 'nearest']],\n",
    "   [21, 1, Conv, [128, 1, 1, None, 1, nn.LeakyReLU(0.1)]], # route backbone P4\n",
    "   [[-1, -2], 1, Concat, [1]],\n",
    "   \n",
    "   [-1, 1, Conv, [64, 1, 1, None, 1, nn.LeakyReLU(0.1)]],\n",
    "   [-2, 1, Conv, [64, 1, 1, None, 1, nn.LeakyReLU(0.1)]],\n",
    "   [-1, 1, Conv, [64, 3, 1, None, 1, nn.LeakyReLU(0.1)]],\n",
    "   [-1, 1, Conv, [64, 3, 1, None, 1, nn.LeakyReLU(0.1)]],\n",
    "   [[-1, -2, -3, -4], 1, Concat, [1]],\n",
    "   [-1, 1, Conv, [128, 1, 1, None, 1, nn.LeakyReLU(0.1)]],  # 47\n",
    "  \n",
    "   [-1, 1, Conv, [64, 1, 1, None, 1, nn.LeakyReLU(0.1)]],\n",
    "   [-1, 1, nn.Upsample, [None, 2, 'nearest']],\n",
    "   [14, 1, Conv, [64, 1, 1, None, 1, nn.LeakyReLU(0.1)]], # route backbone P3\n",
    "   [[-1, -2], 1, Concat, [1]],\n",
    "   \n",
    "   [-1, 1, Conv, [32, 1, 1, None, 1, nn.LeakyReLU(0.1)]],\n",
    "   [-2, 1, Conv, [32, 1, 1, None, 1, nn.LeakyReLU(0.1)]],\n",
    "   [-1, 1, Conv, [32, 3, 1, None, 1, nn.LeakyReLU(0.1)]],\n",
    "   [-1, 1, Conv, [32, 3, 1, None, 1, nn.LeakyReLU(0.1)]],\n",
    "   [[-1, -2, -3, -4], 1, Concat, [1]],\n",
    "   [-1, 1, Conv, [64, 1, 1, None, 1, nn.LeakyReLU(0.1)]],  # 57\n",
    "   \n",
    "   [-1, 1, Conv, [128, 3, 2, None, 1, nn.LeakyReLU(0.1)]],\n",
    "   [[-1, 47], 1, Concat, [1]],\n",
    "   \n",
    "   [-1, 1, Conv, [64, 1, 1, None, 1, nn.LeakyReLU(0.1)]],\n",
    "   [-2, 1, Conv, [64, 1, 1, None, 1, nn.LeakyReLU(0.1)]],\n",
    "   [-1, 1, Conv, [64, 3, 1, None, 1, nn.LeakyReLU(0.1)]],\n",
    "   [-1, 1, Conv, [64, 3, 1, None, 1, nn.LeakyReLU(0.1)]],\n",
    "   [[-1, -2, -3, -4], 1, Concat, [1]],\n",
    "   [-1, 1, Conv, [128, 1, 1, None, 1, nn.LeakyReLU(0.1)]],  # 65\n",
    "   \n",
    "   [-1, 1, Conv, [256, 3, 2, None, 1, nn.LeakyReLU(0.1)]],\n",
    "   [[-1, 37], 1, Concat, [1]],\n",
    "   \n",
    "   [-1, 1, Conv, [128, 1, 1, None, 1, nn.LeakyReLU(0.1)]],\n",
    "   [-2, 1, Conv, [128, 1, 1, None, 1, nn.LeakyReLU(0.1)]],\n",
    "   [-1, 1, Conv, [128, 3, 1, None, 1, nn.LeakyReLU(0.1)]],\n",
    "   [-1, 1, Conv, [128, 3, 1, None, 1, nn.LeakyReLU(0.1)]],\n",
    "   [[-1, -2, -3, -4], 1, Concat, [1]],\n",
    "   [-1, 1, Conv, [256, 1, 1, None, 1, nn.LeakyReLU(0.1)]],  # 73\n",
    "      \n",
    "   [57, 1, Conv, [128, 3, 1, None, 1, nn.LeakyReLU(0.1)]],\n",
    "   [65, 1, Conv, [256, 3, 1, None, 1, nn.LeakyReLU(0.1)]],\n",
    "   [73, 1, Conv, [512, 3, 1, None, 1, nn.LeakyReLU(0.1)]],\n",
    "\n",
    "   [[74,75,76], 1, IDetect, [nc, anchors]],   # Detect(P3, P4, P5)\n",
    "  ]"
   ]
  },
  {
   "cell_type": "markdown",
   "metadata": {},
   "source": [
    "# Run training"
   ]
  },
  {
   "cell_type": "code",
   "execution_count": null,
   "metadata": {
    "execution": {
     "iopub.execute_input": "2022-10-25T00:36:03.737755Z",
     "iopub.status.busy": "2022-10-25T00:36:03.737334Z",
     "iopub.status.idle": "2022-10-25T00:36:03.745381Z",
     "shell.execute_reply": "2022-10-25T00:36:03.744157Z",
     "shell.execute_reply.started": "2022-10-25T00:36:03.737721Z"
    }
   },
   "outputs": [],
   "source": [
    "model_name = 'yolov7_tiny_cyclist'\n",
    "%cd yolov7"
   ]
  },
  {
   "cell_type": "code",
   "execution_count": null,
   "metadata": {
    "execution": {
     "iopub.execute_input": "2022-10-24T23:49:04.890055Z",
     "iopub.status.busy": "2022-10-24T23:49:04.889364Z",
     "iopub.status.idle": "2022-10-24T23:49:13.495018Z",
     "shell.execute_reply": "2022-10-24T23:49:13.494114Z",
     "shell.execute_reply.started": "2022-10-24T23:49:04.890004Z"
    }
   },
   "outputs": [],
   "source": [
    "sizes_dict = {}\n",
    "i = 0\n",
    "for img_path in (orig_ds_root/'images').glob('*'):\n",
    "    sz = PIL.Image.open(img_path).size\n",
    "    sizes_dict[sz] = sizes_dict.get(sz, 0) + 1\n",
    "    i += 1\n",
    "    if i % 2000 == 0:\n",
    "        print('Done ', i)\n",
    "        #break\n",
    "    \n",
    "sizes_dict"
   ]
  },
  {
   "cell_type": "markdown",
   "metadata": {},
   "source": [
    "You need to either disable wandb or login before training; otherwise, training won't proceed."
   ]
  },
  {
   "cell_type": "code",
   "execution_count": null,
   "metadata": {
    "execution": {
     "iopub.execute_input": "2022-10-25T00:54:51.986034Z",
     "iopub.status.busy": "2022-10-25T00:54:51.985451Z",
     "iopub.status.idle": "2022-10-25T00:54:54.199627Z",
     "shell.execute_reply": "2022-10-25T00:54:54.198345Z",
     "shell.execute_reply.started": "2022-10-25T00:54:51.985996Z"
    }
   },
   "outputs": [],
   "source": [
    "!wandb disabled"
   ]
  },
  {
   "cell_type": "markdown",
   "metadata": {},
   "source": [
    "To train with a single GPU:"
   ]
  },
  {
   "cell_type": "code",
   "execution_count": null,
   "metadata": {
    "execution": {
     "iopub.execute_input": "2022-10-25T00:54:56.648658Z",
     "iopub.status.busy": "2022-10-25T00:54:56.648271Z",
     "iopub.status.idle": "2022-10-25T00:58:49.957645Z",
     "shell.execute_reply": "2022-10-25T00:58:49.956408Z",
     "shell.execute_reply.started": "2022-10-25T00:54:56.648628Z"
    }
   },
   "outputs": [],
   "source": [
    "!python train.py --epochs 50 --workers 4 --device 0 --batch-size 32 \\\n",
    "--data data/cyclist-dataset.yaml --img 640 640 --cfg cfg/training/yolov7-tiny-single-class.yaml \\\n",
    "--weights 'yolov7-tiny.pt' --name $model_name --hyp data/hyp.scratch.tiny.yaml"
   ]
  },
  {
   "cell_type": "markdown",
   "metadata": {},
   "source": [
    "To train with multiple GPUs (this example assumes 2 GPUs):"
   ]
  },
  {
   "cell_type": "code",
   "execution_count": null,
   "metadata": {},
   "outputs": [],
   "source": [
    "!python -m torch.distributed.launch --nproc_per_node 1 --master_port 9527 train.py --epochs 50 --workers 4 \\\n",
    "--device 0,1 --sync-bn --batch-size 128 --data data/cyclist-dataset.yaml --img 640 640 \\\n",
    "--cfg cfg/training/yolov7-tiny-single-class.yaml --weights 'yolov7-tiny.pt' --name $model_name \\\n",
    "--hyp data/hyp.scratch.tiny.yaml"
   ]
  },
  {
   "cell_type": "markdown",
   "metadata": {},
   "source": [
    "# Export"
   ]
  },
  {
   "cell_type": "markdown",
   "metadata": {},
   "source": [
    "Export to TorchScript:"
   ]
  },
  {
   "cell_type": "code",
   "execution_count": null,
   "metadata": {},
   "outputs": [],
   "source": [
    "!python export.py --weights runs/train/{model_name}/weights/best.pt \\\n",
    "        --img-size 640 640"
   ]
  },
  {
   "cell_type": "markdown",
   "metadata": {},
   "source": [
    "OR export to ONNX, with NMS included:"
   ]
  },
  {
   "cell_type": "code",
   "execution_count": null,
   "metadata": {},
   "outputs": [],
   "source": [
    "!python export.py --weights runs/train/{model_name}/weights/best.pt --grid --end2end --simplify \\\n",
    "        --topk-all 100 --iou-thres 0.65 --conf-thres 0.35 --img-size 640 640 --max-wh 640"
   ]
  },
  {
   "cell_type": "markdown",
   "metadata": {},
   "source": [
    "# Download compiled model weights"
   ]
  },
  {
   "cell_type": "markdown",
   "metadata": {},
   "source": [
    "Set the value of `serialized_file_path` depending on whether you have exported to ONNX or TorchScript format"
   ]
  },
  {
   "cell_type": "code",
   "execution_count": null,
   "metadata": {},
   "outputs": [],
   "source": [
    "weights_path = Path(f'runs/train/{model_name}/weights')\n",
    "ts_path = weights_path/'best.torchscript.pt'\n",
    "onnx_path = weights_path/'best.onnx'\n",
    "serialized_file_path = ts_path.resolve()\n",
    "#serialized_file_path = onnx_path.resolve()\n",
    "\n",
    "kaggle_root = Path('/kaggle/working')\n",
    "in_kaggle = kaggle_root.exists()\n",
    "if in_kaggle:\n",
    "    # In Kaggle, FileLink doesn't work if we don't cd to the root working directory\n",
    "    # or if we pass an absolute path\n",
    "    %cd /kaggle/working\n",
    "    serialized_file_path = serialized_file_path.relative_to(kaggle_root)\n",
    "FileLink(serialized_file_path)"
   ]
  },
  {
   "cell_type": "markdown",
   "metadata": {},
   "source": [
    "# (Information) Generate TorchServe model archive file (.mar)"
   ]
  },
  {
   "cell_type": "markdown",
   "metadata": {},
   "source": [
    "When we use TorchServe to serve our model, we first need to package it in a specific format (.mar). To generate a .mar file, we must use a different tool: **torch-model-archiver**.\n",
    "\n",
    "You'd install torch-model-archiver with:\n",
    "`pip install torch-model-archiver`\n",
    "\n",
    "but we won't install it now as it's already included in the requirements of our server project."
   ]
  },
  {
   "cell_type": "markdown",
   "metadata": {},
   "source": [
    "Usage:\n",
    "```\n",
    "       torch-model-archiver [-h] --model-name MODEL_NAME\n",
    "                            [--serialized-file SERIALIZED_FILE]\n",
    "                            [--model-file MODEL_FILE] --handler HANDLER\n",
    "                            [--extra-files EXTRA_FILES]\n",
    "                            [--runtime {python,python2,python3}]\n",
    "                            [--export-path EXPORT_PATH]\n",
    "                            [--archive-format {tgz,no-archive,default}] [-f]\n",
    "                            -v VERSION [-r REQUIREMENTS_FILE]\n",
    "```\n",
    "\n",
    "In this case, we will generate the model archive (.mar) file from a TorchScript or ONNX compiled model checkpoint. If we were instead passing an eager mode model through the parameter `serialized-file`, the parameter `model-file` would be required too.\n",
    "\n",
    "Example:\n",
    "```\n",
    "serialized_file_path = f'runs/train/{model_name}/weights/best.torchscript.pt'\n",
    "!torch-model-archiver --model-name cyclist_detector --version 1.0 --serialized-file $serialized_file_path \\\n",
    "--handler object_detector\n",
    "```\n",
    "\n",
    "We are not going to generate the .mar file from this notebook. It's is best done using the command line from our server project, because we need to use a custom handler. The default one for object detection (`--handler object_detector`) isn't adapted to our needs.\n",
    "\n",
    "The script `<project_root>/server/objdetserver/scripts/generate_mar.py` chooses the proper handler for you."
   ]
  },
  {
   "cell_type": "code",
   "execution_count": null,
   "metadata": {},
   "outputs": [],
   "source": []
  }
 ],
 "metadata": {
  "kernelspec": {
   "display_name": "Python 3",
   "language": "python",
   "name": "python3"
  },
  "language_info": {
   "codemirror_mode": {
    "name": "ipython",
    "version": 3
   },
   "file_extension": ".py",
   "mimetype": "text/x-python",
   "name": "python",
   "nbconvert_exporter": "python",
   "pygments_lexer": "ipython3",
   "version": "3.7.3"
  }
 },
 "nbformat": 4,
 "nbformat_minor": 4
}
